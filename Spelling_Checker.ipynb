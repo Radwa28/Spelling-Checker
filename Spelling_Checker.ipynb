{
  "nbformat": 4,
  "nbformat_minor": 0,
  "metadata": {
    "colab": {
      "provenance": []
    },
    "kernelspec": {
      "name": "python3",
      "display_name": "Python 3"
    },
    "language_info": {
      "name": "python"
    }
  },
  "cells": [
    {
      "cell_type": "code",
      "execution_count": 2,
      "metadata": {
        "colab": {
          "base_uri": "https://localhost:8080/"
        },
        "id": "8Tl6cg959P6e",
        "outputId": "872e3a7a-0e63-4f8e-ed2b-fe0b6e1e5a14"
      },
      "outputs": [
        {
          "output_type": "stream",
          "name": "stdout",
          "text": [
            "Enter the number of words in the dictionary: 4\n",
            "Enter word 1: abandons\n",
            "Enter word 2: abase\n",
            "Enter word 3: abash\n",
            "Enter word 4: abatement\n",
            "Enter a word to find its nearest 4 words: abatable\n",
            "Nearest words to 'abatable': ['abandons', 'abase', 'abash', 'abatement']\n",
            "Enter a new word to add to the dictionary: abattoir\n",
            "Word 'abattoir' added to the dictionary.\n"
          ]
        }
      ],
      "source": [
        "class SpellChecker:\n",
        "    def __init__(self):\n",
        "        # Step 1: define an empty dictionary to store words.\n",
        "        self.dictionary = {}\n",
        "\n",
        "    def add_words_to_dictionary(self):\n",
        "        # Step 2: Allow the user to input words for the dictionary.\n",
        "        num_words = int(input(\"Enter the number of words in the dictionary: \"))\n",
        "        for i in range(num_words):\n",
        "            word = input(f\"Enter word {i+1}: \")\n",
        "            self.dictionary[word] = True\n",
        "        # Time complexity: O(n), where n is the number of words in the dictionary.\n",
        "        # Space complexity: O(n), as we store all words in the dictionary.\n",
        "    def get_nearest_words(self, word):\n",
        "        # Step 3: Find the nearest 4 words for an input word not in the dictionary.\n",
        "        if word in self.dictionary:\n",
        "            return []\n",
        "\n",
        "        nearest_words = []\n",
        "        for dict_word in self.dictionary:\n",
        "            distance = abs(ord(word[0]) - ord(dict_word[0]))\n",
        "            nearest_words.append((distance, dict_word))\n",
        "\n",
        "        nearest_words.sort(key=lambda x: (x[0], x[1]))\n",
        "\n",
        "        return [word for _, word in nearest_words[:4]]\n",
        "        # Time complexity: O(n*log(n)), where n is the number of words in the dictionary.\n",
        "        # The sorting operation dominates the time complexity.\n",
        "        # Space complexity: O(1) since we are only storing a fixed number of nearest words.\n",
        "\n",
        "    def add_word_to_dictionary(self, word):\n",
        "        # Step 4: Add a word to the dictionary.\n",
        "        self.dictionary[word] = True\n",
        "         # Time complexity: O(1), as dictionary insertion is typically constant time.\n",
        "        # Space complexity: O(n), since we are adding a new word to the dictionary data structure.\n",
        "\n",
        "# Create the SpellChecker instance\n",
        "spell_checker = SpellChecker()\n",
        "\n",
        "# Allow the user to input words for the dictionary\n",
        "spell_checker.add_words_to_dictionary()\n",
        "\n",
        "# Testing the operations\n",
        "input_word = input(\"Enter a word to find its nearest 4 words: \")\n",
        "nearest_words = spell_checker.get_nearest_words(input_word)\n",
        "print(f\"Nearest words to '{input_word}': {nearest_words}\")\n",
        "\n",
        "new_word = input(\"Enter a new word to add to the dictionary: \")\n",
        "spell_checker.add_word_to_dictionary(new_word)\n",
        "print(f\"Word '{new_word}' added to the dictionary.\")\n"
      ]
    }
  ]
}